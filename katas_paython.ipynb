{
 "cells": [
  {
   "cell_type": "markdown",
   "id": "f7eebc39",
   "metadata": {},
   "source": [
    "# PROYECTO LÓGICA: Katas de Python"
   ]
  },
  {
   "cell_type": "markdown",
   "id": "17335bdb",
   "metadata": {},
   "source": [
    "#### 1. Escribe una función que reciba una cadena de texto como parámetro y devuelva un diccionario con las frecuencias de cada letra en la cadena. Los espacios no deben ser considerados."
   ]
  },
  {
   "cell_type": "code",
   "execution_count": 269,
   "id": "7b7295a9",
   "metadata": {},
   "outputs": [],
   "source": [
    "def frecuencia_letras(cadena):\n",
    "    # Eliminamos los espacios y convertimos todo a minúsculas para un conteo uniforme\n",
    "    cadena = cadena.replace(\" \", \"\").lower()\n",
    "    \n",
    "    frecuencias = {}\n",
    "    for letra in cadena:\n",
    "        if letra.isalpha():  # Solo cuenta letras, ignora números o símbolos\n",
    "            if letra in frecuencias:\n",
    "                frecuencias[letra] += 1\n",
    "            else:\n",
    "                frecuencias[letra] = 1\n",
    "    return frecuencias\n"
   ]
  },
  {
   "cell_type": "code",
   "execution_count": 11,
   "id": "d48b9df3",
   "metadata": {},
   "outputs": [
    {
     "name": "stdout",
     "output_type": "stream",
     "text": [
      "{'b': 1, 'u': 1, 'e': 2, 'n': 3, 'o': 1, 's': 2, 'd': 1, 'i': 2, 'a': 3, 'r': 1, 'g': 1, 't': 1}\n"
     ]
    }
   ],
   "source": [
    "texto = \"Buenos dias Argentina\"\n",
    "resultado = frecuencia_letras(texto)\n",
    "print(resultado)"
   ]
  },
  {
   "cell_type": "markdown",
   "id": "b64cd88f",
   "metadata": {},
   "source": [
    "#### 2. Dada una lista de números, obtén una nueva lista con el doble de cada valor. Usa la función map()"
   ]
  },
  {
   "cell_type": "code",
   "execution_count": 270,
   "id": "b8af3955",
   "metadata": {},
   "outputs": [
    {
     "name": "stdout",
     "output_type": "stream",
     "text": [
      "[2, 4, 6, 8, 10]\n"
     ]
    }
   ],
   "source": [
    "numeros = [1, 2, 3, 4, 5]\n",
    "\n",
    "# Usamos map con una función lambda para duplicar cada número\n",
    "dobles = list(map(lambda x: x * 2, numeros))\n",
    "\n",
    "print(dobles)\n"
   ]
  },
  {
   "cell_type": "markdown",
   "id": "0ba4ea34",
   "metadata": {},
   "source": [
    "#### 3.  Escribe una función que tome una lista de palabras y una palabra objetivo como parámetros. La función debe devolver una lista con todas las palabras de la lista original que contengan la palabra objetivo"
   ]
  },
  {
   "cell_type": "code",
   "execution_count": 271,
   "id": "e7d08eeb",
   "metadata": {},
   "outputs": [],
   "source": [
    "def buscar_palabras(lista_palabras, objetivo):\n",
    "    resultado = []\n",
    "    for palabra in lista_palabras:\n",
    "        if objetivo in palabra:\n",
    "            resultado.append(palabra)\n",
    "    return resultado\n"
   ]
  },
  {
   "cell_type": "code",
   "execution_count": 65,
   "id": "fb505f88",
   "metadata": {},
   "outputs": [
    {
     "name": "stdout",
     "output_type": "stream",
     "text": [
      "['piedra', 'piedrita']\n"
     ]
    }
   ],
   "source": [
    "palabras = [\"correr\", \"piedra\", \"comedor\", \"cielo\", \"piedrita\", \"amanecer\"]\n",
    "objetivo = \"pie\"\n",
    "resultado = buscar_palabras(palabras, objetivo)\n",
    "print(resultado)"
   ]
  },
  {
   "cell_type": "markdown",
   "id": "35814c0f",
   "metadata": {},
   "source": [
    "#### 4. Genera una función que calcule la diferencia entre los valores de dos listas. Usa la función map()"
   ]
  },
  {
   "cell_type": "code",
   "execution_count": null,
   "id": "72d5d38c",
   "metadata": {},
   "outputs": [],
   "source": [
    "def diferencias_listas(lista1, lista2):\n",
    "    return list(map(lambda x, y: x - y, lista1, lista2))"
   ]
  },
  {
   "cell_type": "code",
   "execution_count": 69,
   "id": "788c6215",
   "metadata": {},
   "outputs": [
    {
     "name": "stdout",
     "output_type": "stream",
     "text": [
      "[10, 15, 25, 60]\n"
     ]
    }
   ],
   "source": [
    "lista1 = [19, 20, 35, 68]\n",
    "lista2 = [9, 5, 10, 8]\n",
    "\n",
    "resultado = diferencias_listas(lista1, lista2)\n",
    "print(resultado)"
   ]
  },
  {
   "cell_type": "markdown",
   "id": "72a09fc4",
   "metadata": {},
   "source": [
    "#### 5. Ecribe una función que tome una lista de números como parámetro y un valor opcional nota_aprobado, que por defecto es 5. La función debe calcular la media de los números en la lista y determinar si la media es mayor o igual que nota aprobado. Si es así, el estado será \"aprobado\", de lo contrario, será \"suspenso\". La función debe devolver una tupla que contenga la media y el estado."
   ]
  },
  {
   "cell_type": "code",
   "execution_count": null,
   "id": "228bd2c2",
   "metadata": {},
   "outputs": [],
   "source": [
    "def evaluar_nota(lista_notas, nota_aprobado=5):\n",
    "    if not lista_notas:\n",
    "        return (0, \"sin notas\")  # Evita dividir por cero\n",
    "\n",
    "    media = sum(lista_notas) / len(lista_notas)\n",
    "    estado = \"aprobado\" if media >= nota_aprobado else \"suspenso\"\n",
    "    return (media, estado)\n"
   ]
  },
  {
   "cell_type": "code",
   "execution_count": 80,
   "id": "c40aaa0b",
   "metadata": {},
   "outputs": [
    {
     "name": "stdout",
     "output_type": "stream",
     "text": [
      "(7.0, 'aprobado')\n",
      "(3.0, 'suspenso')\n",
      "(0, 'sin notas')\n"
     ]
    }
   ],
   "source": [
    "print(evaluar_nota([7, 6, 8]))\n",
    "print(evaluar_nota([1, 6, 2]))\n",
    "print(evaluar_nota([]))    # lista vacía"
   ]
  },
  {
   "cell_type": "markdown",
   "id": "64ed27a1",
   "metadata": {},
   "source": [
    "#### 6. Escribe una función que calcule el factorial de un número de manera recursiva."
   ]
  },
  {
   "cell_type": "code",
   "execution_count": null,
   "id": "531d0ce9",
   "metadata": {},
   "outputs": [],
   "source": [
    "def factorial(n):\n",
    "    if n < 0:\n",
    "        return \"El factorial no está definido para números negativos\"\n",
    "    elif n == 0 or n == 1:  # el factorial de 0 y 1 es siempre 1. Esta condición evita llamadas infinitas.\n",
    "        return 1\n",
    "    else:\n",
    "        return n * factorial(n - 1)"
   ]
  },
  {
   "cell_type": "code",
   "execution_count": 89,
   "id": "e23fe297",
   "metadata": {},
   "outputs": [
    {
     "name": "stdout",
     "output_type": "stream",
     "text": [
      "6\n"
     ]
    }
   ],
   "source": [
    "print(factorial(3))"
   ]
  },
  {
   "cell_type": "markdown",
   "id": "4add308f",
   "metadata": {},
   "source": [
    "#### 7. Genera una función que convierta una lista de tuplas a una lista de strings. Usa la función map()"
   ]
  },
  {
   "cell_type": "code",
   "execution_count": null,
   "id": "6088cc69",
   "metadata": {},
   "outputs": [],
   "source": [
    "def tuplas_a_strings(lista_tuplas):\n",
    "    return list(map(lambda tupla: \" \".join(map(str, tupla)), lista_tuplas))"
   ]
  },
  {
   "cell_type": "code",
   "execution_count": 92,
   "id": "f98ef4c4",
   "metadata": {},
   "outputs": [
    {
     "name": "stdout",
     "output_type": "stream",
     "text": [
      "['1 sandia', '2 melon', '3 naranja']\n"
     ]
    }
   ],
   "source": [
    "tuplas = [(1, 'sandia'), (2, 'melon'), (3, 'naranja')]\n",
    "resultado = tuplas_a_strings(tuplas)\n",
    "print(resultado)"
   ]
  },
  {
   "cell_type": "markdown",
   "id": "33d7a0e7",
   "metadata": {},
   "source": [
    "#### 8. Escribe un programa que pida al usuario dos números e intente dividirlos. Si el usuario ingresa un valor no numérico o intenta dividir por cero, maneja esas excepciones de manera adecuada. Asegúrate de mostrar un mensaje indicando si la división fue exitosa o no."
   ]
  },
  {
   "cell_type": "code",
   "execution_count": 97,
   "id": "9279b01d",
   "metadata": {},
   "outputs": [
    {
     "name": "stdout",
     "output_type": "stream",
     "text": [
      "La división fue exitosa. Resultado: 3.0\n",
      "Operación completada sin errores.\n"
     ]
    }
   ],
   "source": [
    "def dividir():\n",
    "    try: # Se intenta leer dos números desde el teclado y hacer la división.\n",
    "        num1 = float(input(\"Ingresa el primer número: \"))\n",
    "        num2 = float(input(\"Ingresa el segundo número: \"))\n",
    "        \n",
    "        resultado = num1 / num2\n",
    "        print(f\"La división fue exitosa. Resultado: {resultado}\")\n",
    "    \n",
    "    except ValueError: # Se ejecuta si el usuario ingresa texto o algo que no puede convertirse en número.\n",
    "        print(\"Error: Debes ingresar valores numéricos.\")\n",
    "    \n",
    "    except ZeroDivisionError: # Se ejecuta si el segundo número es 0 y ocurre una división por cero.\n",
    "        print(\"Error: No se puede dividir entre cero.\")\n",
    "    \n",
    "    except Exception as e: # Captura cualquier otro error inesperado.\n",
    "        print(f\"Ocurrió un error inesperado: {e}\")\n",
    "    \n",
    "    else: # Solo se ejecuta si no ocurrió ningún error. Imprime un mensaje positivo.\n",
    "        print(\"Operación completada sin errores.\")\n",
    "        \n",
    "dividir()"
   ]
  },
  {
   "cell_type": "markdown",
   "id": "59a80735",
   "metadata": {},
   "source": [
    "#### 9. Escribe una función que tome una lista de nombres de mascotas como parámetro y devuelva una nueva lista excluyendo ciertas mascotas prohibidas en España. La lista de mascotas a excluir es [\"Mapache\", \"Tigre\", \"Serpiente Pitón\", \"Cocodrilo\", \"Oso\"].Usa la función filter()"
   ]
  },
  {
   "cell_type": "code",
   "execution_count": null,
   "id": "2c48bbff",
   "metadata": {},
   "outputs": [],
   "source": [
    "def filtrar_mascotas(lista_mascotas):\n",
    "    prohibidas = [\"Mapache\", \"Tigre\", \"Serpiente Pitón\", \"Cocodrilo\", \"Oso\"]\n",
    "    return list(filter(lambda mascota: mascota not in prohibidas, lista_mascotas))"
   ]
  },
  {
   "cell_type": "code",
   "execution_count": 100,
   "id": "3fa4ba3f",
   "metadata": {},
   "outputs": [
    {
     "name": "stdout",
     "output_type": "stream",
     "text": [
      "['Perro', 'Gato', 'Leon', 'Mono', 'Loro']\n"
     ]
    }
   ],
   "source": [
    "mascotas = [\"Perro\", \"Gato\", \"Tigre\", \"Leon\", \"Mono\", \"Loro\", \"Mapache\"]\n",
    "resultado = filtrar_mascotas(mascotas)\n",
    "print(resultado)\n"
   ]
  },
  {
   "cell_type": "markdown",
   "id": "2fd21e47",
   "metadata": {},
   "source": [
    "#### 10. Escribe una función que reciba una lista de números y calcule su promedio. Si la lista está vacía, lanza una excepción personalizada y maneja el error adecuadamente"
   ]
  },
  {
   "cell_type": "code",
   "execution_count": 110,
   "id": "8dfd5d44",
   "metadata": {},
   "outputs": [
    {
     "name": "stdout",
     "output_type": "stream",
     "text": [
      "Error: La lista está vacía. No se puede calcular el promedio.\n"
     ]
    }
   ],
   "source": [
    "\n",
    "# Define una excepción personalizada que hereda de Exception. Esto permite lanzar un error con nombre claro.\n",
    "class ListaVaciaError(Exception):\n",
    "    pass\n",
    "\n",
    "def calcular_promedio(numeros):\n",
    "    if not numeros: # Verifica si la lista está vacía. Si lo está, lanza nuestra excepción personalizada.\n",
    "        raise ListaVaciaError(\"La lista está vacía. No se puede calcular el promedio.\")\n",
    "    \n",
    "    promedio = sum(numeros) / len(numeros) # Calcula el promedio de la lista si tiene elementos.\n",
    "    return promedio\n",
    "\n",
    "# Uso de la función con manejo de error\n",
    "try: \n",
    "    lista = [] \n",
    "    resultado = calcular_promedio(lista)\n",
    "    print(f\"El promedio es: {resultado}\")\n",
    "\n",
    "except ListaVaciaError as e:\n",
    "    print(f\"Error: {e}\")"
   ]
  },
  {
   "cell_type": "markdown",
   "id": "f9e8d7df",
   "metadata": {},
   "source": [
    "#### 11. Escribe un programa que pida al usuario que introduzca su edad. Si el usuario ingresa un valor no numérico o un valor fuera del rango esperado (por ejemplo, menor que 0 o mayor que 120), maneja las excepciones adecuadamente."
   ]
  },
  {
   "cell_type": "code",
   "execution_count": 116,
   "id": "d8e59057",
   "metadata": {},
   "outputs": [
    {
     "name": "stdout",
     "output_type": "stream",
     "text": [
      "41 años.\n"
     ]
    }
   ],
   "source": [
    "def pedir_edad():\n",
    "    try:\n",
    "        edad = int(input(\"Introduce tu edad: \"))\n",
    "        \n",
    "        if edad < 0 or edad > 120:\n",
    "            raise ValueError(\"La edad debe estar entre 0 y 120.\")\n",
    "        \n",
    "        print(f\"{edad} años.\")\n",
    "    \n",
    "\t# Captura tanto errores de conversión como valores fuera de rango.\n",
    "    except ValueError as e:\n",
    "        print(f\"Error: {e}\")\n",
    "    \n",
    "    except Exception as e:\n",
    "        print(f\"Ocurrió un error inesperado: {e}\")\n",
    "\n",
    "# Llamamos a la función\n",
    "pedir_edad()"
   ]
  },
  {
   "cell_type": "markdown",
   "id": "88527d6e",
   "metadata": {},
   "source": [
    "#### 12. Genera una función que al recibir una frase devuelva una lista con la longitud de cada palabra. Usa la función map()"
   ]
  },
  {
   "cell_type": "code",
   "execution_count": null,
   "id": "c8d3ce45",
   "metadata": {},
   "outputs": [],
   "source": [
    "def longitudes_palabras(frase):\n",
    "    palabras = frase.split() \n",
    "    return list(map(len, palabras))  # Aplica len() a cada palabra\n"
   ]
  },
  {
   "cell_type": "code",
   "execution_count": 118,
   "id": "e3dac46d",
   "metadata": {},
   "outputs": [
    {
     "name": "stdout",
     "output_type": "stream",
     "text": [
      "[2, 4, 2, 2, 3, 6]\n"
     ]
    }
   ],
   "source": [
    "frase = \"no todo es lo que parece\"\n",
    "resultado = longitudes_palabras(frase)\n",
    "print(resultado)"
   ]
  },
  {
   "cell_type": "markdown",
   "id": "7b881431",
   "metadata": {},
   "source": [
    "#### 13. Genera una función la cual, para un conjunto de caracteres, devuelva una lista de tuplas con cada letra en mayúsculas y minúsculas. Las letras no pueden estar repetidas .Usa la función map()"
   ]
  },
  {
   "cell_type": "code",
   "execution_count": null,
   "id": "bbf1d511",
   "metadata": {},
   "outputs": [],
   "source": [
    "def letras_mayus_minus(caracteres):\n",
    "    letras_unicas = set(caracteres)  # Convierte la secuencia en un conjunto para eliminar letras repetidas.\n",
    "    letras_filtradas = filter(str.isalpha, letras_unicas)  # Elimina cualquier carácter que no sea una letra\n",
    "    return list(map(lambda c: (c.upper(), c.lower()), letras_filtradas)) # Convierte cada letra a una tupla con la forma (mayúscula, minúscula)\n"
   ]
  },
  {
   "cell_type": "code",
   "execution_count": 273,
   "id": "3c010965",
   "metadata": {},
   "outputs": [
    {
     "name": "stdout",
     "output_type": "stream",
     "text": [
      "[('E', 'e'), ('S', 's'), ('V', 'v'), ('N', 'n'), ('A', 'a'), ('B', 'b'), ('U', 'u')]\n"
     ]
    }
   ],
   "source": [
    "resultado = letras_mayus_minus(\"Buenas nuevas!\")\n",
    "print(resultado)"
   ]
  },
  {
   "cell_type": "markdown",
   "id": "d1b65e75",
   "metadata": {},
   "source": [
    "#### 14. Crea una función que retorne las palabras de una lista de palabras que comience con una letra en especifico. Usa la función filter()"
   ]
  },
  {
   "cell_type": "code",
   "execution_count": null,
   "id": "84add386",
   "metadata": {},
   "outputs": [],
   "source": [
    "def palabras_con_letra(lista_palabras, letra):\n",
    "    return list(filter(lambda palabra: palabra.lower().startswith(letra.lower()), lista_palabras))\n",
    "\n",
    "# startswith(letra): verifica si la palabra comienza con la letra dada\n",
    "# .lower(): convierte ambas a minúsculas para que la comparación no sea sensible a mayúsculas.\n"
   ]
  },
  {
   "cell_type": "code",
   "execution_count": 132,
   "id": "3f0be014",
   "metadata": {},
   "outputs": [
    {
     "name": "stdout",
     "output_type": "stream",
     "text": [
      "['Casa', 'Comedor', 'carro', 'Cordero']\n"
     ]
    }
   ],
   "source": [
    "palabras = [\"Casa\", \"Comedor\", \"Perro\", \"carro\", \"piedra\", \"Cordero\"]\n",
    "resultado = palabras_con_letra(palabras, \"C\")\n",
    "print(resultado)\n"
   ]
  },
  {
   "cell_type": "markdown",
   "id": "a3c803a7",
   "metadata": {},
   "source": [
    "#### 15. Crea una función lambda que  sume 3 a cada número de una lista dada"
   ]
  },
  {
   "cell_type": "code",
   "execution_count": 133,
   "id": "530c1bbb",
   "metadata": {},
   "outputs": [
    {
     "name": "stdout",
     "output_type": "stream",
     "text": [
      "[4, 5, 6, 7, 8]\n"
     ]
    }
   ],
   "source": [
    "numeros = [1, 2, 3, 4, 5]\n",
    "\n",
    "resultado = list(map(lambda x: x + 3, numeros)) # map(...): aplica la función lambda a cada elemento de la lista.\n",
    "\n",
    "print(resultado)"
   ]
  },
  {
   "cell_type": "markdown",
   "id": "de31a29b",
   "metadata": {},
   "source": [
    "#### 16. Escribe una función que tome una cadena de texto y un número entero n como parámetros y devuelva una lista de todas las palabras que sean más largas que n. Usa la función filter()"
   ]
  },
  {
   "cell_type": "code",
   "execution_count": null,
   "id": "0391d98d",
   "metadata": {},
   "outputs": [],
   "source": [
    "def palabras_mas_largas(frase, n):\n",
    "    palabras = frase.split()  # Separa la frase en palabras\n",
    "    return list(filter(lambda palabra: len(palabra) > n, palabras))\n"
   ]
  },
  {
   "cell_type": "code",
   "execution_count": 139,
   "id": "9ee9bd6f",
   "metadata": {},
   "outputs": [
    {
     "name": "stdout",
     "output_type": "stream",
     "text": [
      "['Proyecto', 'logicas', 'paython']\n"
     ]
    }
   ],
   "source": [
    "texto = \"Proyecto logicas katas de paython \"\n",
    "resultado = palabras_mas_largas(texto, 6)\n",
    "print(resultado)"
   ]
  },
  {
   "cell_type": "markdown",
   "id": "6bf0bd2c",
   "metadata": {},
   "source": [
    "#### 17. Crea una función que tome una lista de dígitos y devuelva el número correspondiente. Por ejemplo, (5,7,2) corresponde al número quinientos setenta y dos (572). Usa la función reduce()"
   ]
  },
  {
   "cell_type": "code",
   "execution_count": null,
   "id": "2a343c53",
   "metadata": {},
   "outputs": [],
   "source": [
    "from functools import reduce\n",
    "\n",
    "def digitos_a_numero(digitos):\n",
    "    return reduce(lambda x, y: x * 10 + y, digitos)"
   ]
  },
  {
   "cell_type": "code",
   "execution_count": 144,
   "id": "d6baf4ef",
   "metadata": {},
   "outputs": [
    {
     "name": "stdout",
     "output_type": "stream",
     "text": [
      "572\n"
     ]
    }
   ],
   "source": [
    "print(digitos_a_numero([5, 7, 2]))"
   ]
  },
  {
   "cell_type": "markdown",
   "id": "4542101c",
   "metadata": {},
   "source": [
    "#### 18. Escribe un programa en Python que cree una lista de diccionarios que contenga información de estudiantes (nombre, edad, calificación) y use la función filter para extraer a los estudiantes con una calificación mayor o igual a 90. Usa la función filter()"
   ]
  },
  {
   "cell_type": "code",
   "execution_count": 146,
   "id": "c082616b",
   "metadata": {},
   "outputs": [
    {
     "name": "stdout",
     "output_type": "stream",
     "text": [
      "{'nombre': 'laura', 'edad': 23, 'calificacion': 95}\n",
      "{'nombre': 'mario', 'edad': 21, 'calificacion': 90}\n",
      "{'nombre': 'manuela', 'edad': 22, 'calificacion': 93}\n"
     ]
    }
   ],
   "source": [
    "# información de estudiantes\n",
    "estudiantes = [\n",
    "    {\"nombre\": \"laura\", \"edad\": 23, \"calificacion\": 95},\n",
    "    {\"nombre\": \"jose\", \"edad\": 25, \"calificacion\": 88},\n",
    "    {\"nombre\": \"mario\", \"edad\": 21, \"calificacion\": 90},\n",
    "    {\"nombre\": \"jimena\", \"edad\": 20, \"calificacion\": 76},\n",
    "    {\"nombre\": \"manuela\", \"edad\": 22, \"calificacion\": 93}\n",
    "]\n",
    "\n",
    "# filtra a estudiantes con calificación >= 90\n",
    "def estudiantes_excelentes(lista):\n",
    "    return list(filter(lambda estudiante: estudiante[\"calificacion\"] >= 90, lista))\n",
    "\n",
    "resultado = estudiantes_excelentes(estudiantes)\n",
    "for estudiante in resultado:\n",
    "    print(estudiante)"
   ]
  },
  {
   "cell_type": "markdown",
   "id": "65a2438d",
   "metadata": {},
   "source": [
    "#### 19. Crea una función lambda que filtre los números impares de una lista dada."
   ]
  },
  {
   "cell_type": "code",
   "execution_count": 148,
   "id": "b419d91f",
   "metadata": {},
   "outputs": [
    {
     "name": "stdout",
     "output_type": "stream",
     "text": [
      "[1, 3, 5, 7, 9]\n"
     ]
    }
   ],
   "source": [
    "numeros = [1, 2, 3, 4, 5, 6, 7, 8, 9, 10]\n",
    "\n",
    "# Usamos filter con una función lambda para obtener los impares\n",
    "impares = list(filter(lambda x: x % 2 != 0, numeros)) # lambda x: x % 2 != 0 \n",
    "                                                      # Es una función anónima que devuelve True solo si x es impar.\n",
    "\n",
    "print(impares)"
   ]
  },
  {
   "cell_type": "markdown",
   "id": "9220f29a",
   "metadata": {},
   "source": [
    "#### 20. Para una lista con elementos tipo integer y string obtén una nueva lista sólo con los valores int. Usa la función filter()"
   ]
  },
  {
   "cell_type": "code",
   "execution_count": 150,
   "id": "586ea72a",
   "metadata": {},
   "outputs": [
    {
     "name": "stdout",
     "output_type": "stream",
     "text": [
      "[15, 22, 40, 7]\n"
     ]
    }
   ],
   "source": [
    "# Lista combinada\n",
    "elementos = [15, \"pais\", 22, \"agua\", 40, \"13\", 7]\n",
    "\n",
    "# Filtramos solo los elementos de tipo int\n",
    "solo_enteros = list(filter(lambda x: isinstance(x, int), elementos))\n",
    "\n",
    "print(solo_enteros)"
   ]
  },
  {
   "cell_type": "markdown",
   "id": "be307c14",
   "metadata": {},
   "source": [
    "#### 21. Crea una función que calcule el cubo de un número dado mediante una función lambda"
   ]
  },
  {
   "cell_type": "code",
   "execution_count": 153,
   "id": "f11ef36b",
   "metadata": {},
   "outputs": [
    {
     "name": "stdout",
     "output_type": "stream",
     "text": [
      "64\n",
      "27\n"
     ]
    }
   ],
   "source": [
    "# calcula el cubo de un número\n",
    "cubo = lambda x: x ** 3\n",
    "\n",
    "print(cubo(4))\n",
    "print(cubo(3))"
   ]
  },
  {
   "cell_type": "markdown",
   "id": "446e5dd9",
   "metadata": {},
   "source": [
    "#### 22. Dada una lista numérica, obtén el producto total de los valores de dicha lista.Usa la función reduce() "
   ]
  },
  {
   "cell_type": "code",
   "execution_count": null,
   "id": "b580bce9",
   "metadata": {},
   "outputs": [],
   "source": [
    "from functools import reduce\n",
    "\n",
    "def producto_total(lista):\n",
    "    return reduce(lambda x, y: x * y, lista) # Multiplica el primer elemento con el segundo, luego el resultado con el tercero, y así sucesivamente."
   ]
  },
  {
   "cell_type": "code",
   "execution_count": 155,
   "id": "8b6337db",
   "metadata": {},
   "outputs": [
    {
     "name": "stdout",
     "output_type": "stream",
     "text": [
      "120\n"
     ]
    }
   ],
   "source": [
    "numeros = [2, 3, 4, 5]\n",
    "resultado = producto_total(numeros)\n",
    "print(resultado)"
   ]
  },
  {
   "cell_type": "markdown",
   "id": "5b11f61e",
   "metadata": {},
   "source": [
    "#### 23. Concatena una lista de palabras.Usa la función reduce()"
   ]
  },
  {
   "cell_type": "code",
   "execution_count": null,
   "id": "108e0c73",
   "metadata": {},
   "outputs": [],
   "source": [
    "from functools import reduce\n",
    "\n",
    "def concatenar_palabras(lista):\n",
    "    return reduce(lambda x, y: x + y, lista)"
   ]
  },
  {
   "cell_type": "code",
   "execution_count": 158,
   "id": "c1a26c93",
   "metadata": {},
   "outputs": [
    {
     "name": "stdout",
     "output_type": "stream",
     "text": [
      "Holaestoesunapruebapython\n"
     ]
    }
   ],
   "source": [
    "palabras = [\"Hola\", \"esto\", \"es\", \"una\" \"prueba\" \"python\"]\n",
    "resultado = concatenar_palabras(palabras)\n",
    "print(resultado)"
   ]
  },
  {
   "cell_type": "markdown",
   "id": "9886ca9f",
   "metadata": {},
   "source": [
    "#### 24. Calcula la diferencia total en los valores de una lista. Usa la función reduce() "
   ]
  },
  {
   "cell_type": "code",
   "execution_count": null,
   "id": "07e9579f",
   "metadata": {},
   "outputs": [],
   "source": [
    "from functools import reduce\n",
    "\n",
    "def diferencia_total(lista):\n",
    "    return reduce(lambda x, y: x - y, lista)\n"
   ]
  },
  {
   "cell_type": "code",
   "execution_count": 161,
   "id": "9eb9a43b",
   "metadata": {},
   "outputs": [
    {
     "name": "stdout",
     "output_type": "stream",
     "text": [
      "300\n"
     ]
    }
   ],
   "source": [
    "valores = [350, 40, 10]\n",
    "resultado = diferencia_total(valores)\n",
    "print(resultado)"
   ]
  },
  {
   "cell_type": "markdown",
   "id": "fa1fddc6",
   "metadata": {},
   "source": [
    "#### 25. Crea una función que cuente el número de caracteres en una cadena de texto dada."
   ]
  },
  {
   "cell_type": "code",
   "execution_count": null,
   "id": "313bea46",
   "metadata": {},
   "outputs": [],
   "source": [
    "def contar_caracteres(texto):\n",
    "    return len(texto)\n"
   ]
  },
  {
   "cell_type": "code",
   "execution_count": 164,
   "id": "7d6346be",
   "metadata": {},
   "outputs": [
    {
     "name": "stdout",
     "output_type": "stream",
     "text": [
      "17\n"
     ]
    }
   ],
   "source": [
    "frase = \"saludos desde vsc\"\n",
    "resultado = contar_caracteres(frase)\n",
    "print(resultado)"
   ]
  },
  {
   "cell_type": "markdown",
   "id": "a6ec74d0",
   "metadata": {},
   "source": [
    "#### 26. Crea una función lambda que calcule el resto de la división entre dos números dados."
   ]
  },
  {
   "cell_type": "code",
   "execution_count": 177,
   "id": "6de8f297",
   "metadata": {},
   "outputs": [
    {
     "name": "stdout",
     "output_type": "stream",
     "text": [
      "2\n",
      "1\n"
     ]
    }
   ],
   "source": [
    "resto = lambda a, b: a % b\n",
    "\n",
    "print(resto(20, 3))\n",
    "print(resto(46, 5))\n"
   ]
  },
  {
   "cell_type": "markdown",
   "id": "3f701937",
   "metadata": {},
   "source": [
    "#### 27. Crea una función que calcule el promedio de una lista de números."
   ]
  },
  {
   "cell_type": "code",
   "execution_count": null,
   "id": "281cdfac",
   "metadata": {},
   "outputs": [],
   "source": [
    "def calcular_promedio(lista):\n",
    "    return sum(lista) / len(lista) # suma todos los valores de la lista. / cuenta cuántos elementos hay."
   ]
  },
  {
   "cell_type": "code",
   "execution_count": 190,
   "id": "12581562",
   "metadata": {},
   "outputs": [
    {
     "name": "stdout",
     "output_type": "stream",
     "text": [
      "30.0\n"
     ]
    }
   ],
   "source": [
    "numeros = [20, 40, 20, 40]\n",
    "promedio = calcular_promedio(numeros)\n",
    "print(promedio)"
   ]
  },
  {
   "cell_type": "markdown",
   "id": "9633bc6d",
   "metadata": {},
   "source": [
    "#### 28. Crea una función que busque y devuelva el primer elemento duplicado en una lista dada."
   ]
  },
  {
   "cell_type": "code",
   "execution_count": null,
   "id": "f177d1dc",
   "metadata": {},
   "outputs": [],
   "source": [
    "def primer_duplicado(lista):\n",
    "    vistos = set()\n",
    "    for elemento in lista:\n",
    "        if elemento in vistos:\n",
    "            return elemento\n",
    "        vistos.add(elemento)\n"
   ]
  },
  {
   "cell_type": "code",
   "execution_count": 209,
   "id": "dc908fe3",
   "metadata": {},
   "outputs": [
    {
     "name": "stdout",
     "output_type": "stream",
     "text": [
      "1\n"
     ]
    }
   ],
   "source": [
    "numeros = [1, 5,32, 9, 1, 6]\n",
    "resultado = primer_duplicado(numeros)\n",
    "print(resultado)"
   ]
  },
  {
   "cell_type": "markdown",
   "id": "1c70e3d3",
   "metadata": {},
   "source": [
    "#### 29. Crea una función que convierta una variable en una cadena de texto y enmascare todos los caracteres  con el carácter '#', excepto los últimos cuatro."
   ]
  },
  {
   "cell_type": "code",
   "execution_count": null,
   "id": "c7026880",
   "metadata": {},
   "outputs": [],
   "source": [
    "def enmascarar(valor):\n",
    "    cadena = str(valor)  # convierte cualquier tipo a texto\n",
    "    if len(cadena) <= 4:\n",
    "        return cadena\n",
    "    return '#' * (len(cadena) - 4) + cadena[-4:]\n"
   ]
  },
  {
   "cell_type": "code",
   "execution_count": 214,
   "id": "567b666f",
   "metadata": {},
   "outputs": [
    {
     "name": "stdout",
     "output_type": "stream",
     "text": [
      "#####6789\n",
      "########reta\n"
     ]
    }
   ],
   "source": [
    "print(enmascarar(123456789))\n",
    "print(enmascarar(\"claveSecreta\"))\n"
   ]
  },
  {
   "cell_type": "markdown",
   "id": "dd168b5f",
   "metadata": {},
   "source": [
    "#### 30. Crea una función que determine si dos palabras son anagramas, es decir, si están formadas por las mismas letras pero en diferente orden."
   ]
  },
  {
   "cell_type": "code",
   "execution_count": null,
   "id": "93490498",
   "metadata": {},
   "outputs": [],
   "source": [
    "def son_anagramas(palabra1, palabra2):\n",
    "    palabra1 = palabra1.replace(\" \", \"\").lower()\n",
    "    palabra2 = palabra2.replace(\" \", \"\").lower()\n",
    "\n",
    "    return sorted(palabra1) == sorted(palabra2) # convierte la palabra en una lista de letras ordenadas, Si las listas ordenadas son iguales → son anagramas.\n"
   ]
  },
  {
   "cell_type": "code",
   "execution_count": 222,
   "id": "d971e516",
   "metadata": {},
   "outputs": [
    {
     "name": "stdout",
     "output_type": "stream",
     "text": [
      "True\n",
      "False\n"
     ]
    }
   ],
   "source": [
    "print(son_anagramas(\"amor\", \"Roma\"))\n",
    "print(son_anagramas(\"perro\", \"ropero\"))\n"
   ]
  },
  {
   "cell_type": "markdown",
   "id": "919e775a",
   "metadata": {},
   "source": [
    "#### 31. Crea una función que solicite al usuario ingresar una lista de nombres y luego solicite un nombre para buscar en esa lista. Si el nombre está en la lista, se imprime un mensaje indicando que fue encontrado, de lo contrario, se lanza una excepción."
   ]
  },
  {
   "cell_type": "code",
   "execution_count": null,
   "id": "e0c47710",
   "metadata": {},
   "outputs": [],
   "source": [
    "def buscar_nombre():\n",
    "    try:\n",
    "        # Solicita la lista de nombres al usuario\n",
    "        entrada = input(\"Ingresa una lista de nombres separados por comas: \")\n",
    "        lista_nombres = [nombre.strip().lower() for nombre in entrada.split(\",\")]\n",
    "\n",
    "        # Solicita el nombre a buscar\n",
    "        nombre_buscado = input(\"¿Qué nombre deseas buscar? \").strip().lower()\n",
    "\n",
    "        # Verifica si está en la lista\n",
    "        if nombre_buscado in lista_nombres:\n",
    "            print(f\" El nombre '{nombre_buscado}' fue encontrado en la lista.\")\n",
    "        else:\n",
    "            raise ValueError(f\" El nombre '{nombre_buscado}' no está en la lista.\")\n",
    "    \n",
    "    except ValueError as e:\n",
    "        print(\"Error:\", e)\n",
    "\n"
   ]
  },
  {
   "cell_type": "code",
   "execution_count": 233,
   "id": "8359e6f9",
   "metadata": {},
   "outputs": [
    {
     "name": "stdout",
     "output_type": "stream",
     "text": [
      "Error:  El nombre 'jesus' no está en la lista.\n"
     ]
    }
   ],
   "source": [
    "buscar_nombre()\n"
   ]
  },
  {
   "cell_type": "markdown",
   "id": "d926ce85",
   "metadata": {},
   "source": [
    "#### 32. Crea una función que tome un nombre completo y una lista de empleados, busque el nombre completo en la lista y devuelve el puesto del empleado si está en la lista, de lo contrario, devuelve un mensaje indicando que la persona no trabaja aquí."
   ]
  },
  {
   "cell_type": "code",
   "execution_count": null,
   "id": "4ae7d8c2",
   "metadata": {},
   "outputs": [],
   "source": [
    "def buscar_puesto(nombre_completo, empleados):\n",
    "    for empleado in empleados:\n",
    "        if empleado[\"nombre\"].lower() == nombre_completo.lower():\n",
    "            return f\"{nombre_completo} trabaja como {empleado['puesto']}.\"\n",
    "    return f\"{nombre_completo} no trabaja aquí.\"\n"
   ]
  },
  {
   "cell_type": "code",
   "execution_count": 235,
   "id": "ca44942a",
   "metadata": {},
   "outputs": [
    {
     "name": "stdout",
     "output_type": "stream",
     "text": [
      "Carlos Pérez trabaja como Desarrollador.\n",
      "Juan Díaz no trabaja aquí.\n"
     ]
    }
   ],
   "source": [
    "lista_empleados = [\n",
    "    {\"nombre\": \"Laura Gómez\", \"puesto\": \"Analista\"},\n",
    "    {\"nombre\": \"Carlos Pérez\", \"puesto\": \"Desarrollador\"},\n",
    "    {\"nombre\": \"Ana Torres\", \"puesto\": \"Diseñadora\"}\n",
    "]\n",
    "\n",
    "print(buscar_puesto(\"Carlos Pérez\", lista_empleados))\n",
    "print(buscar_puesto(\"Juan Díaz\", lista_empleados))\n"
   ]
  },
  {
   "cell_type": "markdown",
   "id": "89af1cff",
   "metadata": {},
   "source": [
    "#### 33. Crea una función lambda que sume elementos correspondientes de dos listas dadas."
   ]
  },
  {
   "cell_type": "code",
   "execution_count": 236,
   "id": "00667459",
   "metadata": {},
   "outputs": [
    {
     "name": "stdout",
     "output_type": "stream",
     "text": [
      "[5, 7, 9]\n"
     ]
    }
   ],
   "source": [
    "lista1 = [1, 2, 3]\n",
    "lista2 = [4, 5, 6]\n",
    "\n",
    "suma = list(map(lambda a, b: a + b, lista1, lista2))\n",
    "\n",
    "print(suma)\n"
   ]
  },
  {
   "cell_type": "markdown",
   "id": "9595eb3e",
   "metadata": {},
   "source": [
    "#### 34. Crea la clase Arbol , define un árbol genérico con un tronco y ramas como atributos. Los métodos disponibles son: crecer_tronco , nueva_rama , crecer_ramas , quitar_rama e info_arbol . El objetivo es implementar estos métodos para manipular la estructura del árbol.Código a seguir:\n",
    "- 1. \n",
    "1. Inicializar un árbol con un tronco de longitud 1 y una lista vacía de ramas.\n",
    "2. Implementar el método crecer_tronco para aumentar la longitud del tronco en una unidad.\n",
    "3. Implementar el método nueva_rama para agregar una nueva rama de longitud 1 a la lista de ramas. \n",
    "4. Implementar el método crecer_ramas para aumentar en una unidad la longitud de todas las ramas existentes.\n",
    "5. Implementar el método quitar_rama para eliminar una rama en una posición específica. \n",
    "6. Implementar el método info_arbol para devolver información sobre la longitud del tronco, el número de ramas y las longitudes de las mismas. Caso de uso: \n",
    "- 2. \n",
    "1. Crear un árbol. \n",
    "2. Hacer crecer el tronco del árbol una unidad. \n",
    "3. Añadir una nueva rama al árbol. \n",
    "4. Hacer crecer todas las ramas del árbol una unidad. \n",
    "5. Añadir dos nuevas ramas al árbol. \n",
    "6. Retirar la rama situada en la posición 2. 7. Obtener información sobre el árbol."
   ]
  },
  {
   "cell_type": "code",
   "execution_count": null,
   "id": "9c2bc108",
   "metadata": {},
   "outputs": [],
   "source": [
    "class Arbol:\n",
    "    def __init__(self):\n",
    "        self.tronco = 1  # Longitud inicial del tronco\n",
    "        self.ramas = []  # Lista vacía de ramas\n",
    "\n",
    "    def crecer_tronco(self):\n",
    "        self.tronco += 1\n",
    "\n",
    "    def nueva_rama(self):\n",
    "        self.ramas.append(1)  # Nueva rama con longitud 1\n",
    "\n",
    "    def crecer_ramas(self):\n",
    "        self.ramas = [rama + 1 for rama in self.ramas]\n",
    "\n",
    "    def quitar_rama(self, posicion):\n",
    "        if 0 <= posicion < len(self.ramas):\n",
    "            del self.ramas[posicion]\n",
    "        else:\n",
    "            print(\"Posición inválida: no se puede quitar esa rama.\")\n",
    "\n",
    "    def info_arbol(self):\n",
    "        return {\n",
    "            \"Longitud del tronco\": self.tronco,\n",
    "            \"Número de ramas\": len(self.ramas),\n",
    "            \"Longitudes de las ramas\": self.ramas\n",
    "        }\n"
   ]
  },
  {
   "cell_type": "code",
   "execution_count": 246,
   "id": "822ebc2f",
   "metadata": {},
   "outputs": [
    {
     "name": "stdout",
     "output_type": "stream",
     "text": [
      "{'Longitud del tronco': 2, 'Número de ramas': 2, 'Longitudes de las ramas': [2, 1]}\n"
     ]
    }
   ],
   "source": [
    "# 1. Crear un árbol\n",
    "mi_arbol = Arbol()\n",
    "\n",
    "# 2. Hacer crecer el tronco una unidad\n",
    "mi_arbol.crecer_tronco()\n",
    "\n",
    "# 3. Añadir una nueva rama\n",
    "mi_arbol.nueva_rama()\n",
    "\n",
    "# 4. Hacer crecer todas las ramas\n",
    "mi_arbol.crecer_ramas()\n",
    "\n",
    "# 5. Añadir dos nuevas ramas\n",
    "mi_arbol.nueva_rama()\n",
    "mi_arbol.nueva_rama()\n",
    "\n",
    "# 6. Retirar la rama situada en la posición 2 (índice base 0)\n",
    "mi_arbol.quitar_rama(2)\n",
    "\n",
    "# 7. Obtener información sobre el árbol\n",
    "info = mi_arbol.info_arbol()\n",
    "print(info)\n"
   ]
  },
  {
   "cell_type": "markdown",
   "id": "2a0a2c1a",
   "metadata": {},
   "source": [
    "#### 36. Crea la clase UsuarioBanco ,representa a un usuario de un banco con su nombre, saldo y si tiene o no cuenta corriente. Proporciona métodos para realizar operaciones como retirar dinero, transferir dinero desde otro usuario y agregar dinero al saldo. Código a seguir:\n",
    "- 1. \n",
    "1. Inicializar un usuario con su nombre, saldo y si tiene o no cuenta corriente mediante \n",
    "2. Implementar el método True y False . retirar_dinero para retirar dinero del saldo del usuario. Lanzará un error en caso de no poder hacerse. \n",
    "3. Implementar el método transferir_dinero para realizar una transferencia desde otro usuario al usuario actual. Lanzará un error en caso de no poder hacerse.\n",
    "4. Implementar el método agregar_dinero para agregar dinero al saldo del usuario.Caso de uso:\n",
    "5. Crear dos usuarios: \"Alicia\" con saldo inicial de 100 y \"Bob\" con saldo inicial de 50, ambos con cuenta corriente. \n",
    "- 2. \n",
    "1. Agregar 20 unidades de saldo de \"Bob\". \n",
    "2. Hacer una transferencia de 80 unidades desde \"Bob\" a \"Alicia\". \n",
    "3. Retirar 50 unidades de saldo a \"Alicia\"."
   ]
  },
  {
   "cell_type": "code",
   "execution_count": 301,
   "id": "1b17aab1",
   "metadata": {},
   "outputs": [],
   "source": [
    "class UsuarioBanco:\n",
    "    def __init__(self, nombre, saldo, cuenta_corriente):\n",
    "        self.nombre = nombre\n",
    "        self.saldo = saldo\n",
    "        self.cuenta_corriente = cuenta_corriente\n",
    "\n",
    "    def retirar_dinero(self, cantidad):\n",
    "        try:\n",
    "            if cantidad <= 0:\n",
    "                raise ValueError(\"La cantidad a retirar debe ser positiva.\")\n",
    "            if cantidad > self.saldo:\n",
    "                raise ValueError(f\"{self.nombre} no tiene suficiente saldo para retirar {cantidad}€.\")\n",
    "            self.saldo -= cantidad\n",
    "            print(f\"{self.nombre} ha retirado {cantidad}€. Saldo actual: {self.saldo}€\")\n",
    "        except ValueError as e:\n",
    "            print(f\"Error al retirar dinero: {e}\")\n",
    "\n",
    "    def transferir_dinero(self, otro_usuario, cantidad):\n",
    "        try:\n",
    "            if cantidad <= 0:\n",
    "                raise ValueError(\"La cantidad a transferir debe ser positiva.\")\n",
    "            if cantidad > self.saldo:\n",
    "                raise ValueError(f\"{self.nombre} no tiene suficiente saldo para transferir {cantidad}€.\")\n",
    "            self.saldo -= cantidad\n",
    "            otro_usuario.saldo += cantidad\n",
    "            print(f\"{self.nombre} transfirió {cantidad}€ a {otro_usuario.nombre}.\")\n",
    "            print(f\"Saldo de {self.nombre}: {self.saldo}€\")\n",
    "            print(f\"Saldo de {otro_usuario.nombre}: {otro_usuario.saldo}€\")\n",
    "        except ValueError as e:\n",
    "            print(f\"Error al transferir dinero: {e}\")\n",
    "\n",
    "    def agregar_dinero(self, cantidad):\n",
    "        try:\n",
    "            if cantidad <= 0:\n",
    "                raise ValueError(\"La cantidad a agregar debe ser positiva.\")\n",
    "            self.saldo += cantidad\n",
    "            print(f\"{self.nombre} ha agregado {cantidad}€. Saldo actual: {self.saldo}€\")\n",
    "        except ValueError as e:\n",
    "            print(f\"Error al agregar dinero: {e}\")\n",
    "\n",
    "    def mostrar_info(self):\n",
    "        print(f\"Usuario: {self.nombre}, Saldo: {self.saldo}€, Cuenta corriente: {self.cuenta_corriente}\")\n",
    "\n",
    "\n"
   ]
  },
  {
   "cell_type": "code",
   "execution_count": 302,
   "id": "3a44ea0a",
   "metadata": {},
   "outputs": [
    {
     "name": "stdout",
     "output_type": "stream",
     "text": [
      "Bob ha agregado 20€. Saldo actual: 70€\n",
      "Error al transferir dinero: Bob no tiene suficiente saldo para transferir 80€.\n",
      "Alicia ha retirado 50€. Saldo actual: 50€\n"
     ]
    }
   ],
   "source": [
    "#  usuarios\n",
    "alicia = UsuarioBanco(\"Alicia\", 100, True)\n",
    "bob = UsuarioBanco(\"Bob\", 50, True)\n",
    "\n",
    "# Agregar 20 a Bob\n",
    "bob.agregar_dinero(20)\n",
    "\n",
    "# Transferir 80 desde Bob a Alicia (es Alicia quien llama al método)\n",
    "bob.transferir_dinero(alicia, 80)\n",
    "\n",
    "# Retirar 50 a Alicia\n",
    "alicia.retirar_dinero(50)\n"
   ]
  },
  {
   "cell_type": "markdown",
   "id": "1eea71ee",
   "metadata": {},
   "source": [
    "#### 37. Crea una función llamada procesar_texto que procesa un texto según la opción especificada: reemplazar_palabras , procesar_texto .contar_palabras , eliminar_palabra . Estas opciones son otras funciones que tenemos que definir primero y llamar dentro de la función Código a seguir:\n",
    "1. Crear una función contar_palabras para contar el número de veces que aparece cada palabra en el texto. Tiene que devolver un diccionario. \n",
    "2. Crear una función reemplazar_palabras para remplazar una que devolver el texto con el remplazo de palabras. \n",
    "3. Crear una función palabra_original del texto por una palabra_nueva. Tiene eliminar_palabra para eliminar una palabra del texto. Tiene que devolver el texto con la palabra eliminada. \n",
    "4. Crear la función procesar_texto que tome un texto, una opción(entre \"contar\", \"reemplazar\", \"eliminar\") y un número de argumentos variable según la opción indicada.Caso de uso:Comprueba el funcionamiento completo de la función procesar_texto"
   ]
  },
  {
   "cell_type": "code",
   "execution_count": null,
   "id": "461ba62c",
   "metadata": {},
   "outputs": [],
   "source": [
    "def contar_palabras(texto):\n",
    "    palabras = texto.lower().split()\n",
    "    conteo = {}\n",
    "    for palabra in palabras:\n",
    "        palabra = palabra.strip(\".,;!?\")  # quitar puntuación\n",
    "        conteo[palabra] = conteo.get(palabra, 0) + 1\n",
    "    return conteo\n",
    "\n",
    "def reemplazar_palabras(texto, palabra_original, palabra_nueva):\n",
    "    return texto.replace(palabra_original, palabra_nueva)\n",
    "\n",
    "def eliminar_palabra(texto, palabra_a_eliminar):\n",
    "    palabras = texto.split()\n",
    "    resultado = [p for p in palabras if p != palabra_a_eliminar]\n",
    "    return \" \".join(resultado)\n",
    "\n",
    "def procesar_texto(texto, opcion, *args):\n",
    "    if opcion == \"contar\":\n",
    "        return contar_palabras(texto)\n",
    "    elif opcion == \"reemplazar\":\n",
    "        if len(args) != 2:\n",
    "            raise ValueError(\"Reemplazar requiere palabra_original y palabra_nueva.\")\n",
    "        return reemplazar_palabras(texto, args[0], args[1])\n",
    "    elif opcion == \"eliminar\":\n",
    "        if len(args) != 1:\n",
    "            raise ValueError(\"Eliminar requiere una palabra a eliminar.\")\n",
    "        return eliminar_palabra(texto, args[0])\n",
    "    else:\n",
    "        raise ValueError(\"Opción no válida. Usa 'contar', 'reemplazar' o 'eliminar'.\")\n"
   ]
  },
  {
   "cell_type": "code",
   "execution_count": 260,
   "id": "c59e2da3",
   "metadata": {},
   "outputs": [
    {
     "name": "stdout",
     "output_type": "stream",
     "text": [
      "{'hola': 2, 'buenas': 1, 'tardes': 1, 'bello': 2, 'dia': 2, 'se': 1, 'siente': 1, 'el': 1}\n",
      "Hola buenas tardes, hola hermoso dia. se siente hermoso el dia.\n",
      "Hola buenas tardes, bello dia. se siente bello el dia.\n"
     ]
    }
   ],
   "source": [
    "texto = \"Hola buenas tardes, hola bello dia. se siente bello el dia.\"\n",
    "\n",
    "# Contar palabras\n",
    "print(procesar_texto(texto, \"contar\"))\n",
    "\n",
    "# Reemplazar 'mundo' por 'planeta'\n",
    "print(procesar_texto(texto, \"reemplazar\", \"bello\", \"hermoso\"))\n",
    "\n",
    "# Eliminar la palabra 'hola'\n",
    "print(procesar_texto(texto, \"eliminar\", \"hola\"))\n"
   ]
  },
  {
   "cell_type": "markdown",
   "id": "dce91e33",
   "metadata": {},
   "source": [
    "#### 38. Genera un programa que nos diga si es de noche, de día o tarde según la hora proporcionada por el usuario"
   ]
  },
  {
   "cell_type": "code",
   "execution_count": 263,
   "id": "321ab121",
   "metadata": {},
   "outputs": [
    {
     "name": "stdout",
     "output_type": "stream",
     "text": [
      "Es tarde.\n"
     ]
    }
   ],
   "source": [
    "def determinar_momento(hora):\n",
    "    if 0 <= hora <= 5 or 21 <= hora <= 23:\n",
    "        return \"Es de noche.\"\n",
    "    elif 6 <= hora <= 12:\n",
    "        return \"Es de día.\"\n",
    "    elif 13 <= hora <= 20:\n",
    "        return \"Es tarde.\"\n",
    "    else:\n",
    "        return \"Hora inválida.\"\n",
    "\n",
    "try:\n",
    "    hora_usuario = int(input(\"Introduce la hora (0-23): \"))\n",
    "    resultado = determinar_momento(hora_usuario)\n",
    "    print(resultado)\n",
    "except ValueError:\n",
    "    print(\"Por favor, introduce un número entero válido.\")\n"
   ]
  },
  {
   "cell_type": "markdown",
   "id": "19566940",
   "metadata": {},
   "source": [
    "#### 39.  Escribe un programa que determine qué calificación en texto tiene un alumno en base a su calificación numérica. Las reglas de calificación son:\n",
    " - 0 - 69 insuficiente \n",
    " - 70 - 79 bien \n",
    " - 80 - 89 muy bien \n",
    " - 90 - 100 excelente"
   ]
  },
  {
   "cell_type": "code",
   "execution_count": 264,
   "id": "571a68a1",
   "metadata": {},
   "outputs": [
    {
     "name": "stdout",
     "output_type": "stream",
     "text": [
      "Tu calificación es: Insuficiente\n"
     ]
    }
   ],
   "source": [
    "def calificacion_en_texto(nota):\n",
    "    if 0 <= nota <= 69:\n",
    "        return \"Insuficiente\"\n",
    "    elif 70 <= nota <= 79:\n",
    "        return \"Bien\"\n",
    "    elif 80 <= nota <= 89:\n",
    "        return \"Muy bien\"\n",
    "    elif 90 <= nota <= 100:\n",
    "        return \"Excelente\"\n",
    "    else:\n",
    "        return \"Nota inválida\"\n",
    "\n",
    "try:\n",
    "    nota_usuario = int(input(\"Introduce tu calificación (0-100): \"))\n",
    "    resultado = calificacion_en_texto(nota_usuario)\n",
    "    print(f\"Tu calificación es: {resultado}\")\n",
    "except ValueError:\n",
    "    print(\"Por favor, introduce un número válido.\")\n",
    "\n"
   ]
  },
  {
   "cell_type": "markdown",
   "id": "a54e6710",
   "metadata": {},
   "source": [
    "#### 40. Escribe una función que tome dos parámetros: \"triangulo\"  y figura una cadena que puede ser \"rectangulo\" , \"circulo\" o datos (una tupla con los datos necesarios para calcular el área de la figura)."
   ]
  },
  {
   "cell_type": "code",
   "execution_count": null,
   "id": "8d69cb0c",
   "metadata": {},
   "outputs": [],
   "source": [
    "import math\n",
    "\n",
    "def calcular_area(figura, datos):\n",
    "    figura = figura.lower()\n",
    "    \n",
    "    if figura == \"rectangulo\":\n",
    "        if len(datos) != 2:\n",
    "            return \"Se necesitan base y altura para el rectángulo.\"\n",
    "        base, altura = datos\n",
    "        return base * altura\n",
    "\n",
    "    elif figura == \"triangulo\":\n",
    "        if len(datos) != 2:\n",
    "            return \"Se necesitan base y altura para el triángulo.\"\n",
    "        base, altura = datos\n",
    "        return (base * altura) / 2\n",
    "\n",
    "    else:\n",
    "        return \"Figura no reconocida.\"\n"
   ]
  },
  {
   "cell_type": "code",
   "execution_count": 267,
   "id": "a865af78",
   "metadata": {},
   "outputs": [
    {
     "name": "stdout",
     "output_type": "stream",
     "text": [
      "50\n",
      "12.0\n"
     ]
    }
   ],
   "source": [
    "print(calcular_area(\"rectangulo\", (5, 10)))\n",
    "print(calcular_area(\"triangulo\", (6, 4)))\n"
   ]
  },
  {
   "cell_type": "markdown",
   "id": "6d53581d",
   "metadata": {},
   "source": [
    "#### 41. En este ejercicio, se te pedirá que escribas un programa en Python que utilice condicionales para determinar el monto final de una compra en una tienda en línea, después de aplicar un descuento. El programa debe hacer lo siguiente:\n",
    " 1. Solicita al usuario que ingrese el precio original de un artículo.\n",
    " 2. Pregunta al usuario si tiene un cupón de descuento (respuesta sí o no).\n",
    " 3. Si el usuario responde que sí, solicita que ingrese el valor del cupón de descuento.\n",
    " 4. Aplica el descuento al precio original del artículo, siempre y cuando el valor del cupón sea válido (es decir, mayor \n",
    "a cero). Por ejemplo, descuento de 15€. \n",
    "5. Muestra el precio final de la compra, teniendo en cuenta el descuento aplicado o sin él. \n",
    "6. Recuerda utilizar estructuras de control de flujo como if, elif y else para llevar a cabo estas acciones en tu programa de Python."
   ]
  },
  {
   "cell_type": "code",
   "execution_count": 268,
   "id": "4e815819",
   "metadata": {},
   "outputs": [
    {
     "name": "stdout",
     "output_type": "stream",
     "text": [
      "Se aplicó un descuento de 10.00€.\n",
      "El precio final de tu compra es: 20.00€\n"
     ]
    }
   ],
   "source": [
    "try:\n",
    "    precio_original = float(input(\"Ingresa el precio original del artículo (€): \"))\n",
    "    \n",
    "    tiene_cupon = input(\"¿Tienes un cupón de descuento? (sí/no): \").strip().lower()\n",
    "\n",
    "    if tiene_cupon == \"sí\" or tiene_cupon == \"si\":\n",
    "        valor_cupon = float(input(\"Ingresa el valor del cupón de descuento (€): \"))\n",
    "        \n",
    "        if valor_cupon > 0:\n",
    "            precio_final = precio_original - valor_cupon\n",
    "            if precio_final < 0:\n",
    "                precio_final = 0  # No puede haber precio negativo\n",
    "            print(f\"Se aplicó un descuento de {valor_cupon:.2f}€.\")\n",
    "        else:\n",
    "            print(\"Cupón no válido. No se aplicará descuento.\")\n",
    "            precio_final = precio_original\n",
    "\n",
    "    else:\n",
    "        precio_final = precio_original\n",
    "\n",
    "    print(f\"El precio final de tu compra es: {precio_final:.2f}€\")\n",
    "\n",
    "except ValueError:\n",
    "    print(\"Error: Por favor, introduce valores numéricos válidos.\")\n"
   ]
  }
 ],
 "metadata": {
  "kernelspec": {
   "display_name": "Python 3",
   "language": "python",
   "name": "python3"
  },
  "language_info": {
   "codemirror_mode": {
    "name": "ipython",
    "version": 3
   },
   "file_extension": ".py",
   "mimetype": "text/x-python",
   "name": "python",
   "nbconvert_exporter": "python",
   "pygments_lexer": "ipython3",
   "version": "3.13.2"
  }
 },
 "nbformat": 4,
 "nbformat_minor": 5
}
